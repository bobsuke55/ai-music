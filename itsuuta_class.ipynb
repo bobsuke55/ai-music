{
 "cells": [
  {
   "cell_type": "code",
   "execution_count": 1,
   "id": "95b4767b",
   "metadata": {},
   "outputs": [],
   "source": [
    "from music_theory_utils import ItsuUta\n",
    "import pickle as pkl"
   ]
  },
  {
   "cell_type": "code",
   "execution_count": 2,
   "id": "e0c202c8",
   "metadata": {},
   "outputs": [
    {
     "name": "stdout",
     "output_type": "stream",
     "text": [
      "162 D\n",
      "Amelo {'Bass': 'loop8m\\\\Vocalo\\\\162-D\\\\Amelo\\\\Bass\\\\04m_fast-fingers_120bpm_B_major_bpm120to162_KeyBtoD.wav', 'Drum': 'loop8m\\\\Vocalo\\\\162-D\\\\Amelo\\\\Drum\\\\04m_yt1s.com - 120 BPM slow drum loop balladno copyright samples royaltyfree music_bpm120to162.wav', 'GuitarMain': 'loop8m\\\\Vocalo\\\\162-D\\\\Amelo\\\\GuitarMain\\\\08m_04 Electric Guitar PR1 08 - Guitar 2 - 162 BPM - D.wav', 'GuitarSub': 'loop8m\\\\Vocalo\\\\162-D\\\\Amelo\\\\GuitarSub\\\\08m_01 Electric Guitar PR1 08 - Guitar 2 DI - 162 BPM - D.wav'}\n",
      "Bmelo {'Bass': 'loop8m\\\\Vocalo\\\\162-D\\\\Bmelo\\\\Bass\\\\08m_rock-bass-groove-bass-line_120bpm_B_minor_bpm120to162.wav', 'Drum': 'loop8m\\\\Vocalo\\\\162-D\\\\Bmelo\\\\Drum\\\\08m_50_Best_Free_Drum_Loops-Drum_170bpm_to_162bpm.wav', 'GuitarMain': 'loop8m\\\\Vocalo\\\\162-D\\\\Bmelo\\\\GuitarMain\\\\08m_06 Electric Guitar PR1 02 - Guitar Riff 1 - 162 BPM - D.wav', 'GuitarSub': 'loop8m\\\\Vocalo\\\\162-D\\\\Bmelo\\\\GuitarSub\\\\08m_05 Electric Guitar PR1 08 - Guitar Rhythm 1 DI - 162 BPM - D.wav'}\n",
      "Intro {'Bass': 'loop8m\\\\Vocalo\\\\162-D\\\\Intro\\\\Bass\\\\04m_rock-bass-loop_125bpm_A#_major_bpm125to162_KeyA#toD.wav', 'Drum': 'loop8m\\\\Vocalo\\\\162-D\\\\Intro\\\\Drum\\\\04m_yt1s.com - 160 BPMロックドラムループ\\u30008ビートフリートラックドラム素材無料_bpm160to162.wav', 'GuitarMain': 'loop8m\\\\Vocalo\\\\162-D\\\\Intro\\\\GuitarMain\\\\08m_02 Electric Guitar PR1 01 - Guitar Rhythm 1 - 162 BPM - D.wav', 'GuitarSub': 'loop8m\\\\Vocalo\\\\162-D\\\\Intro\\\\GuitarSub\\\\18m_05 Electric Guitar PR1 04 - Guitar Rhythm 1 DI - 162 BPM - D.wav'}\n",
      "Sabi {'Bass': 'loop8m\\\\Vocalo\\\\162-D\\\\Sabi\\\\Bass\\\\08m_fast-fingers_120bpm_B_major_bpm120to81_KeyBtoD.wav', 'Drum': 'loop8m\\\\Vocalo\\\\162-D\\\\Sabi\\\\Drum\\\\04m_yt1s.com - 120 BPM slow drum loop balladno copyright samples royaltyfree music_bpm120to162.wav', 'GuitarSub': 'loop8m\\\\Vocalo\\\\162-D\\\\Sabi\\\\GuitarSub\\\\16m_03 Electric Guitar PR1 04 - Guitar 2 Double  DI - 162 BPM - D.wav', 'GutiarMain': 'loop8m\\\\Vocalo\\\\162-D\\\\Sabi\\\\GutiarMain\\\\18m_06 Electric Guitar PR1 04 - Guitar Rhythm 1 - 162 BPM - D.wav'}\n"
     ]
    },
    {
     "name": "stderr",
     "output_type": "stream",
     "text": [
      "c:\\Users\\yusuke\\Desktop\\Projects\\ai-music\\music_theory_utils.py:314: VisibleDeprecationWarning: Creating an ndarray from ragged nested sequences (which is a list-or-tuple of lists-or-tuples-or ndarrays with different lengths or shapes) is deprecated. If you meant to do this, you must specify 'dtype=object' when creating the ndarray.\n",
      "  motif_combination = np.random.choice(motif_pattern_list,p=motif_pattern_prob_list )\n"
     ]
    },
    {
     "name": "stdout",
     "output_type": "stream",
     "text": [
      "fin synthesis\n"
     ]
    }
   ],
   "source": [
    "uta = ItsuUta(name=\"test22\",genra=\"Vocalo\")\n",
    "uta.gen_music()\n",
    "uta.set_lyric(\"あいうえおかきくけこさしすせそなにぬねのはひふへほまみむめもやゆよらりるれろわをん\",setmode=\"all\")\n",
    "#a.print_part()\n",
    "uta.make_musicxml()\n",
    "uta.synth_vocal()\n",
    "uta.preprocess_vocal()\n",
    "uta.compose(inst_gain=-8)\n",
    "uta.save_instance()      #自身のインスタンスの保存"
   ]
  },
  {
   "cell_type": "code",
   "execution_count": 12,
   "id": "08483856",
   "metadata": {},
   "outputs": [],
   "source": [
    "with open(\"save//test15//itsuuta.pkl\",\"rb\") as f:\n",
    "    uta = pkl.load(f)"
   ]
  }
 ],
 "metadata": {
  "kernelspec": {
   "display_name": "Python 3",
   "language": "python",
   "name": "python3"
  },
  "language_info": {
   "codemirror_mode": {
    "name": "ipython",
    "version": 3
   },
   "file_extension": ".py",
   "mimetype": "text/x-python",
   "name": "python",
   "nbconvert_exporter": "python",
   "pygments_lexer": "ipython3",
   "version": "3.7.11"
  }
 },
 "nbformat": 4,
 "nbformat_minor": 5
}
