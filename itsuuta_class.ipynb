{
 "cells": [
  {
   "cell_type": "code",
   "execution_count": 8,
   "id": "95b4767b",
   "metadata": {},
   "outputs": [],
   "source": [
    "from music_theory_utils import ItsuUta\n",
    "import pickle as pkl\n",
    "import numpy as np \n",
    "np.set_printoptions(precision=3, suppress=True)"
   ]
  },
  {
   "cell_type": "code",
   "execution_count": 9,
   "id": "76393ebe",
   "metadata": {},
   "outputs": [],
   "source": [
    "import music_theory_utils"
   ]
  },
  {
   "cell_type": "code",
   "execution_count": 10,
   "id": "230c8e8c",
   "metadata": {},
   "outputs": [],
   "source": [
    "lyric = \"ふたりよりそってあるいてとわのあいをかたちにしていつまでもきみのよこでわらっていたくてありがとうや\""
   ]
  },
  {
   "cell_type": "code",
   "execution_count": 11,
   "id": "e0c202c8",
   "metadata": {
    "scrolled": false
   },
   "outputs": [
    {
     "name": "stdout",
     "output_type": "stream",
     "text": [
      "130 C\n",
      "PIT ['C+4' 'D+4' 'E+4' 'G+4' 'A+4' 'C+5' 'D+5']\n",
      "C+5 [0.018 0.055 0.091 0.145 0.182 0.236 0.273]\n",
      "C+5 [0.02  0.059 0.098 0.157 0.196 0.255 0.216]\n",
      "A+4 [0.02  0.059 0.098 0.157 0.196 0.255 0.216]\n",
      "PIT ['C+4' 'D+4' 'E+4' 'G+4' 'A+4' 'C+5' 'D+5']\n",
      "C+5 [0.208 0.245 0.208 0.151 0.113 0.057 0.019]\n",
      "G+4 [0.02  0.059 0.098 0.157 0.196 0.255 0.216]\n",
      "E+4 [0.037 0.111 0.185 0.296 0.222 0.111 0.037]\n",
      "PIT ['C+4' 'D+4' 'E+4' 'G+4' 'A+4' 'C+5' 'D+5']\n",
      "D+4 [0.263 0.228 0.193 0.14  0.105 0.053 0.018]\n",
      "D+4 [0.208 0.245 0.208 0.151 0.113 0.057 0.019]\n",
      "G+4 [0.208 0.245 0.208 0.151 0.113 0.057 0.019]\n",
      "PIT ['C+4' 'D+4' 'E+4' 'G+4' 'A+4' 'C+5' 'D+5']\n",
      "G+4 [0.037 0.111 0.185 0.296 0.222 0.111 0.037]\n",
      "A+4 [0.037 0.111 0.185 0.296 0.222 0.111 0.037]\n",
      "PIT ['C+4' 'D+4' 'E+4' 'G+4' 'A+4' 'C+5' 'D+5']\n",
      "E+4 [0.156 0.2   0.244 0.178 0.133 0.067 0.022]\n",
      "E+4 [0.156 0.2   0.244 0.178 0.133 0.067 0.022]\n",
      "D+4 [0.156 0.2   0.244 0.178 0.133 0.067 0.022]\n",
      "G+4 [0.208 0.245 0.208 0.151 0.113 0.057 0.019]\n",
      "PIT ['C+4' 'D+4' 'E+4' 'G+4' 'A+4' 'C+5' 'D+5']\n",
      "C+5 [0.208 0.245 0.208 0.151 0.113 0.057 0.019]\n",
      "C+5 [0.02  0.059 0.098 0.157 0.196 0.255 0.216]\n",
      "PIT ['C+4' 'D+4' 'E+4' 'G+4' 'A+4' 'C+5' 'D+5']\n",
      "D+5 [0.02  0.059 0.098 0.157 0.196 0.255 0.216]\n",
      "A+4 [0.018 0.055 0.091 0.145 0.182 0.236 0.273]\n",
      "PIT ['C+4' 'D+4' 'E+4' 'G+4' 'A+4' 'C+5' 'D+5']\n",
      "A+4 [0.156 0.2   0.244 0.178 0.133 0.067 0.022]\n",
      "D+5 [0.026 0.077 0.128 0.205 0.256 0.179 0.128]\n",
      "PIT ['C+4' 'D+4' 'E+4' 'G+4' 'A+4' 'C+5' 'D+5']\n",
      "C+4 [0.194 0.224 0.194 0.149 0.119 0.075 0.045]\n",
      "C+4 [0.239 0.211 0.183 0.141 0.113 0.07  0.042]\n",
      "C+4 [0.239 0.211 0.183 0.141 0.113 0.07  0.042]\n",
      "PIT ['C+4' 'D+4' 'E+4' 'G+4' 'A+4' 'C+5' 'D+5']\n",
      "G+4 [0.043 0.072 0.101 0.145 0.174 0.217 0.246]\n",
      "A+4 [0.073 0.122 0.171 0.244 0.195 0.122 0.073]\n",
      "G+4 [0.057 0.094 0.132 0.189 0.226 0.17  0.132]\n",
      "D+5 [0.073 0.122 0.171 0.244 0.195 0.122 0.073]\n",
      "PIT ['C+4' 'D+4' 'E+4' 'G+4' 'A+4' 'C+5' 'D+5']\n",
      "E+4 [0.057 0.094 0.132 0.189 0.226 0.17  0.132]\n",
      "D+4 [0.153 0.186 0.22  0.169 0.136 0.085 0.051]\n",
      "C+4 [0.194 0.224 0.194 0.149 0.119 0.075 0.045]\n",
      "fin synthesis\n"
     ]
    }
   ],
   "source": [
    "uta = ItsuUta(name=\"test46\",genra=\"AcousticGuitar\")\n",
    "uta.gen_music()\n",
    "uta.set_lyric(lyric,setmode=\"all\")\n",
    "#a.print_part()\n",
    "uta.make_musicxml()\n",
    "uta.synth_vocal()\n",
    "uta.preprocess_vocal()\n",
    "uta.compose(inst_gain=-8)\n",
    "uta.save_instance()      #自身のインスタンスの保存"
   ]
  },
  {
   "cell_type": "code",
   "execution_count": 12,
   "id": "fef9c55a",
   "metadata": {},
   "outputs": [
    {
     "data": {
      "text/plain": [
       "['O', 'K', 'K', 'R', 'O', 'K', 'K', 'R']"
      ]
     },
     "execution_count": 12,
     "metadata": {},
     "output_type": "execute_result"
    }
   ],
   "source": [
    "uta.parts[\"Amelo\"][\"phrase\"].motif_patern"
   ]
  },
  {
   "cell_type": "code",
   "execution_count": 13,
   "id": "225da2f9",
   "metadata": {},
   "outputs": [
    {
     "data": {
      "text/plain": [
       "['O', 'S+1', 'S+2', 'R', 'O', 'S+1', 'S+2', 'R']"
      ]
     },
     "execution_count": 13,
     "metadata": {},
     "output_type": "execute_result"
    }
   ],
   "source": [
    "uta.parts[\"Bmelo\"][\"phrase\"].motif_patern"
   ]
  },
  {
   "cell_type": "code",
   "execution_count": 14,
   "id": "559d558e",
   "metadata": {},
   "outputs": [
    {
     "data": {
      "text/plain": [
       "['O', 'K', 'K', 'F', 'O', 'K', 'K', 'F']"
      ]
     },
     "execution_count": 14,
     "metadata": {},
     "output_type": "execute_result"
    }
   ],
   "source": [
    "uta.parts[\"Sabi\"][\"phrase\"].motif_patern"
   ]
  },
  {
   "cell_type": "code",
   "execution_count": 7,
   "id": "e8c6d272",
   "metadata": {},
   "outputs": [],
   "source": [
    "import config\n",
    "import numpy as np"
   ]
  },
  {
   "cell_type": "code",
   "execution_count": null,
   "id": "f68b92d9",
   "metadata": {},
   "outputs": [],
   "source": [
    "pre_pitch_char = "
   ]
  },
  {
   "cell_type": "code",
   "execution_count": 9,
   "id": "19456e27",
   "metadata": {},
   "outputs": [],
   "source": [
    "phrase = uta.parts[\"Amelo\"][\"phrase\"]"
   ]
  },
  {
   "cell_type": "code",
   "execution_count": 48,
   "id": "128f6145",
   "metadata": {},
   "outputs": [],
   "source": [
    "pre_pitch_char = \"D+4\"\n",
    "temp = 1\n",
    "power = 2.5"
   ]
  },
  {
   "cell_type": "code",
   "execution_count": 49,
   "id": "5a9a077a",
   "metadata": {},
   "outputs": [],
   "source": [
    "#pre_pitchからの音の距離に応じて確率を決定。 \n",
    "#tempが大きいほど一様な確率になる。\n",
    "pre_pitch_num = config.pitch_char2num_dicts[pre_pitch_char]\n",
    "temp_choices_pitch_num = phrase.choices_pitch_num[phrase.key_penta_recommended_range] \n",
    "\n",
    "pitch_abssub   = np.abs( temp_choices_pitch_num - pre_pitch_num )\n",
    "pitch_prob     = np.max(pitch_abssub) - pitch_abssub + temp\n",
    "pitch_prob     = np.power(pitch_prob,power)\n",
    "pitch_prob     = pitch_prob/pitch_prob.sum()  #確率の正規化\n",
    "\n",
    "#確率に応じてサンプル\n",
    "pitch_char     = np.random.choice(temp_choices_pitch_num,p=pitch_prob)\n",
    "#return pitch_char"
   ]
  },
  {
   "cell_type": "code",
   "execution_count": 13,
   "id": "d116096b",
   "metadata": {},
   "outputs": [],
   "source": [
    "with open(\"a.txt\",\"a\") as f:\n",
    "    prob_text = [ str(i) for i in [0.55,2.31,3]]\n",
    "    a = \"　\".join(prob_text)\n",
    "    f.writelines(a+\"\\n\" )"
   ]
  },
  {
   "cell_type": "code",
   "execution_count": 4,
   "id": "61f13517",
   "metadata": {},
   "outputs": [
    {
     "name": "stdout",
     "output_type": "stream",
     "text": [
      "Intro ====================\n",
      "1bar-----\n",
      "C+7:quaver:on:\n",
      "N:quaver:off:\n",
      "N:quaver:off:\n",
      "G+7:quaver:on:\n",
      "G+6:dotted_quarter:on:\n",
      "D+0:quaver:on:\n",
      "1bar-----\n",
      "D+3:quaver:on:\n",
      "N:quaver:off:\n",
      "N:quaver:off:\n",
      "E+8:quaver:on:\n",
      "E-1:dotted_quarter:on:\n",
      "C+7:quaver:on:\n",
      "1bar-----\n",
      "D+3:quaver:on:\n",
      "N:quaver:off:\n",
      "N:quaver:off:\n",
      "E+8:quaver:on:\n",
      "E-1:dotted_quarter:on:\n",
      "C+7:quaver:on:\n",
      "1bar-----\n",
      "G+7:quaver:on:\n",
      "G+5:quaver:on:\n",
      "E+7:dotted_quarter:on:\n",
      "G+2:dotted_quarter:on:\n",
      "1bar-----\n",
      "C+7:quaver:on:\n",
      "N:quaver:off:\n",
      "N:quaver:off:\n",
      "G+7:quaver:on:\n",
      "G+6:dotted_quarter:on:\n",
      "D+0:quaver:on:\n",
      "1bar-----\n",
      "D+3:quaver:on:\n",
      "N:quaver:off:\n",
      "N:quaver:off:\n",
      "E+8:quaver:on:\n",
      "E-1:dotted_quarter:on:\n",
      "C+7:quaver:on:\n",
      "1bar-----\n",
      "D+3:quaver:on:\n",
      "N:quaver:off:\n",
      "N:quaver:off:\n",
      "E+8:quaver:on:\n",
      "E-1:dotted_quarter:on:\n",
      "C+7:quaver:on:\n",
      "1bar-----\n",
      "G+7:quaver:on:\n",
      "G+5:quaver:on:\n",
      "E+7:dotted_quarter:on:\n",
      "G+2:dotted_quarter:on:\n",
      "Amelo ====================\n",
      "1bar-----\n",
      "D+0:half:on:あ\n",
      "C+7:dotted_quarter:on:い\n",
      "D+8:quaver:on:う\n",
      "1bar-----\n",
      "E+0:half:on:え\n",
      "E+4:dotted_quarter:on:お\n",
      "D+0:quaver:on:か\n",
      "1bar-----\n",
      "E+0:half:on:き\n",
      "E+4:dotted_quarter:on:く\n",
      "D+0:quaver:on:け\n",
      "1bar-----\n",
      "N:bar:off:\n",
      "1bar-----\n",
      "D+0:half:on:こ\n",
      "C+7:dotted_quarter:on:さ\n",
      "D+8:quaver:on:し\n",
      "1bar-----\n",
      "E+0:half:on:す\n",
      "E+4:dotted_quarter:on:せ\n",
      "D+0:quaver:on:そ\n",
      "1bar-----\n",
      "E+0:half:on:な\n",
      "E+4:dotted_quarter:on:に\n",
      "D+0:quaver:on:ぬ\n",
      "1bar-----\n",
      "N:bar:off:\n",
      "Bmelo ====================\n",
      "1bar-----\n",
      "D-1:dotted_quarter:on:ね\n",
      "G+4:quaver:on:の\n",
      "C+5:quaver:on:は\n",
      "N:quaver:off:\n",
      "C-1:quaver:on:ひ\n",
      "D+1:quaver:on:ふ\n",
      "1bar-----\n",
      "D-1:dotted_quarter:on:へ\n",
      "G+4:quaver:on:ほ\n",
      "C+5:quaver:on:ま\n",
      "N:quaver:off:\n",
      "C-1:quaver:on:み\n",
      "D+1:quaver:on:む\n",
      "1bar-----\n",
      "A+6:dotted_quarter:on:め\n",
      "E+2:quaver:on:も\n",
      "D+3:quaver:on:や\n",
      "N:quaver:off:\n",
      "G+5:quaver:on:ゆ\n",
      "A+7:quaver:on:よ\n",
      "1bar-----\n",
      "G-2:quarter:on:ら\n",
      "G+8:quarter:on:り\n",
      "G+7:quarter:on:る\n",
      "D+7:quarter:on:れ\n",
      "1bar-----\n",
      "D-1:dotted_quarter:on:ろ\n",
      "G+4:quaver:on:わ\n",
      "C+5:quaver:on:を\n",
      "N:quaver:off:\n",
      "C-1:quaver:on:ん\n",
      "D+1:quaver:on:あ\n",
      "1bar-----\n",
      "D-1:dotted_quarter:on:い\n",
      "G+4:quaver:on:う\n",
      "C+5:quaver:on:え\n",
      "N:quaver:off:\n",
      "C-1:quaver:on:お\n",
      "D+1:quaver:on:か\n",
      "1bar-----\n",
      "A+6:dotted_quarter:on:き\n",
      "E+2:quaver:on:く\n",
      "D+3:quaver:on:け\n",
      "N:quaver:off:\n",
      "G+5:quaver:on:こ\n",
      "A+7:quaver:on:さ\n",
      "1bar-----\n",
      "G-2:quarter:on:し\n",
      "G+8:quarter:on:す\n",
      "G+7:quarter:on:せ\n",
      "D+7:quarter:on:そ\n",
      "Sabi ====================\n",
      "1bar-----\n",
      "N:quarter:off:\n",
      "N:quarter:off:\n",
      "C-2:half:on:な\n",
      "1bar-----\n",
      "N:quarter:off:\n",
      "N:quarter:off:\n",
      "A+4:half:on:に\n",
      "1bar-----\n",
      "N:quarter:off:\n",
      "N:quarter:off:\n",
      "C-2:half:on:ぬ\n",
      "1bar-----\n",
      "C+0:half:on:ね\n",
      "G+2:dotted_quarter:on:の\n",
      "G+1:quaver:on:は\n",
      "1bar-----\n",
      "N:quarter:off:\n",
      "N:quarter:off:\n",
      "C-2:half:on:ひ\n",
      "1bar-----\n",
      "N:quarter:off:\n",
      "N:quarter:off:\n",
      "A+4:half:on:ふ\n",
      "1bar-----\n",
      "N:quarter:off:\n",
      "N:quarter:off:\n",
      "C-2:half:on:へ\n",
      "1bar-----\n",
      "C+0:half:on:ほ\n",
      "G+2:dotted_quarter:on:ま\n",
      "G+1:quaver:on:み\n"
     ]
    }
   ],
   "source": [
    "uta.print_part()"
   ]
  },
  {
   "cell_type": "code",
   "execution_count": 4,
   "id": "adfa5f73",
   "metadata": {},
   "outputs": [
    {
     "data": {
      "text/plain": [
       "'O_O_O_R_O_O_O_R'"
      ]
     },
     "execution_count": 4,
     "metadata": {},
     "output_type": "execute_result"
    }
   ],
   "source": [
    "uta.parts[\"Amelo\"][\"phrase\"].__dict__()"
   ]
  },
  {
   "cell_type": "code",
   "execution_count": 12,
   "id": "08483856",
   "metadata": {},
   "outputs": [],
   "source": [
    "with open(\"save//test15//itsuuta.pkl\",\"rb\") as f:\n",
    "    uta = pkl.load(f)"
   ]
  }
 ],
 "metadata": {
  "kernelspec": {
   "display_name": "Python 3 (ipykernel)",
   "language": "python",
   "name": "python3"
  },
  "language_info": {
   "codemirror_mode": {
    "name": "ipython",
    "version": 3
   },
   "file_extension": ".py",
   "mimetype": "text/x-python",
   "name": "python",
   "nbconvert_exporter": "python",
   "pygments_lexer": "ipython3",
   "version": "3.7.11"
  }
 },
 "nbformat": 4,
 "nbformat_minor": 5
}
