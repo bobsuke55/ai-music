{
 "cells": [
  {
   "cell_type": "code",
   "execution_count": 1,
   "id": "00c6fb51",
   "metadata": {},
   "outputs": [],
   "source": [
    "version_num = \"17\""
   ]
  },
  {
   "cell_type": "code",
   "execution_count": 2,
   "id": "43ec5acb",
   "metadata": {
    "id": "27e8d31c"
   },
   "outputs": [],
   "source": [
    "import pretty_midi\n",
    "import numpy as np\n",
    "# For plotting\n",
    "import mir_eval.display\n",
    "import librosa.display\n",
    "import matplotlib.pyplot as plt\n",
    "%matplotlib inline \n",
    "# For putting audio in the notebook\n",
    "import IPython.display\n",
    "import pypianoroll\n",
    "from music_theory_utils import make_dicts,inversion\n",
    "from gen_music import *\n",
    "import datetime\n",
    "import config\n",
    "import copy\n",
    "import itertools\n",
    "import os\n",
    "import shutil"
   ]
  },
  {
   "cell_type": "markdown",
   "id": "4c37d840",
   "metadata": {},
   "source": [
    "### ここから★"
   ]
  },
  {
   "cell_type": "code",
   "execution_count": 3,
   "id": "0709c04f",
   "metadata": {},
   "outputs": [],
   "source": [
    "pentas_choice = ['C4', 'D4', 'E4', 'G4', 'A4', 'C5', 'D5']\n",
    "pentas_choice = {key:1/len(pentas_choice) for key in pentas_choice}"
   ]
  },
  {
   "cell_type": "code",
   "execution_count": 4,
   "id": "e87b0fb4",
   "metadata": {},
   "outputs": [],
   "source": [
    "list_note_dulation = np.array(list(config.dulation_char2num_dicts.values()))\n",
    "list_char = config.dulation_char2num_dicts.keys()"
   ]
  },
  {
   "cell_type": "code",
   "execution_count": 5,
   "id": "0ed398c1",
   "metadata": {},
   "outputs": [],
   "source": [
    "note_max_count = [np.arange(int(1+96/i) ) for i in list_note_dulation ]\n",
    "note_count_candi = itertools.product( *note_max_count )"
   ]
  },
  {
   "cell_type": "code",
   "execution_count": 6,
   "id": "bfe1d1fc",
   "metadata": {},
   "outputs": [],
   "source": [
    "pattern_list = []\n",
    "for note_count in note_count_candi:\n",
    "    dulation_sum = np.dot(list_note_dulation, note_count)\n",
    "    if dulation_sum == 96:\n",
    "        pattern_list.append(note_count)"
   ]
  },
  {
   "cell_type": "code",
   "execution_count": 7,
   "id": "c66a2300",
   "metadata": {},
   "outputs": [],
   "source": [
    "dulation_prob = {\n",
    "    \"bar\":1,\"half\":1,\n",
    "    \"quarter\":1,\"dotted_quarter\":1,\n",
    "    \"quaver\":1}#,  \"dotted_quaver\":1,\n",
    "    #\"quarter_tri\":0 ,\"quaver_tri\":0,\n",
    "    #\"semiquaver\":0.8}"
   ]
  },
  {
   "cell_type": "code",
   "execution_count": 8,
   "id": "ffdaf7e1",
   "metadata": {},
   "outputs": [],
   "source": [
    "\n",
    "list_char = [[i] for i in list_char]\n",
    "\n",
    "note_prob = list( dulation_prob.values() )\n",
    "#['bar','half','quarter','quaver','quarter_tri','quaver_tri','semiquaver']\n",
    "\n",
    "motif_pattern_list_text = []\n",
    "motif_prob_list = []\n",
    "\n",
    "for pattern in pattern_list:\n",
    "    synth_char = []\n",
    "    motif_prob = 1\n",
    "    \n",
    "    for num, note_count in enumerate(pattern):\n",
    "        synth_char += list_char[num] * note_count\n",
    "        motif_prob *= note_prob[num] ** note_count \n",
    "        \n",
    "    motif_pattern_list_text.append(synth_char)\n",
    "    motif_prob_list.append(motif_prob)\n",
    "    \n",
    "motif_prob_list = motif_prob_list/np.sum( motif_prob_list ) \n",
    "#正規化"
   ]
  },
  {
   "cell_type": "code",
   "execution_count": 9,
   "id": "5a64937b",
   "metadata": {},
   "outputs": [],
   "source": [
    "#音符\n",
    "class Note:\n",
    "    def __init__(self,dulation_char,onoff_char,pitch_char=\"C-2\",bpm=120):\n",
    "        self.dulation_char  = dulation_char # quaver, (長さ) \"quaver\"\n",
    "        self.onoff_char     = onoff_char # on or off \n",
    "        self.pitch_char     = pitch_char #'C5'\n",
    "        self.bpm       = bpm\n",
    "        self.char2num()\n",
    "        \n",
    "    def char2num(self): ##charの状態をnumに反映させる\n",
    "        self.dulation_num  = config.dulation_char2num_dicts[self.dulation_char]\n",
    "        self.onoff_num     = 1 if (self.onoff_char == \"on\") else 0\n",
    "        self.pitch_num     = config.pitch_char2num_dicts[self.pitch_char]\n",
    "\n",
    "    def num2char(self): ##numの状態をcharに反映させる\n",
    "        self.dulation_char = config.dulation_num2char_dicts[self.dulation_num]\n",
    "        self.onoff_char    = \"on\" if (self.onoff_num == 1) else \"off\"\n",
    "        self.pitch_char    = config.pitch_num2char_dicts[self.pitch_num]\n",
    "    \n",
    "    \n",
    "    def change_pitch(self,pentas_choice):        \n",
    "        if self.onoff_char == \"on\":\n",
    "            pitch_char = np.random.choice(list(pentas_choice.keys()),p=list(pentas_choice.values()),replace=True)\n",
    "            self.pitch_char = pitch_char\n",
    "        self.char2num()\n",
    "                \n",
    "class Bar:\n",
    "    def __init__(self,beat=4):\n",
    "        self.beat     = beat\n",
    "        self.bar_reso = int( config.bar_reso * (self.beat/4) )\n",
    "        self.notes    = []\n",
    "        \n",
    "    def append(self,note):\n",
    "        self.notes.append(note)\n",
    "    \n",
    "class Motif: \n",
    "    def __init__(self,beat,bar_num):\n",
    "        self.notes   = []\n",
    "        self.beat     = beat\n",
    "        self.bar_num  = bar_num #モチーフの小節数。\n",
    "        \n",
    "        self.bar_reso    = int( config.bar_reso * (self.beat/4) )\n",
    "        self.motif_reso  = self.bar_reso * self.bar_num\n",
    "        self.make_motif()\n",
    "        \n",
    "    def make_motif(self):#1小節リズム生成 \n",
    "        motif_combination = np.random.choice(motif_pattern_list_text,p= motif_prob_list )\n",
    "        np.random.shuffle( motif_combination )\n",
    "        for note_char in motif_combination:\n",
    "            onoff_char = np.random.choice([\"on\",\"off\"], p=[0.9,0.1])\n",
    "            note = Note(note_char,onoff_char,\"C-2\")\n",
    "            note.change_pitch(pentas_choice = pentas_choice)\n",
    "            self.notes.append(note)\n",
    "            \n",
    "        return self.notes\n",
    "    \n",
    "    def print_motif(self):\n",
    "        for note in self.notes:\n",
    "            print(note.dulation_char,note.pitch_char,note.onoff_char)\n",
    "        \n",
    "class Phrase: \n",
    "    def __init__(self,base_motif,part_name=\"Amelo\",motif_patern=\"ABACABACABACABAC\"):\n",
    "        \n",
    "        # 基本となるモチーフ\n",
    "        self.base_motif   = base_motif \n",
    "        # Amelo,Bmelo,Sabi,etc..\n",
    "        self.part_name     = part_name   \n",
    "        self.motif_patern = motif_patern\n",
    "        #phraseに含まれる小節数\n",
    "        self.bar_num       = len(self.motif_patern) * self.base_motif.bar_num\n",
    "        ##motifインスタンスのリスト\n",
    "        self.motifs        = []\n",
    "        \n",
    "        self.motif_dict = self.make_motif_dict() \n",
    "        \n",
    "        for patern in self.motif_patern:\n",
    "            self.motifs.append( self.motif_dict[patern] )\n",
    "            \n",
    "    def make_motif_dict(self):\n",
    "        unique_paterns = set(self.motif_patern)            \n",
    "        motif_dict    = {}\n",
    "\n",
    "        for patern in unique_paterns:\n",
    "            motif_cp = copy.deepcopy(self.base_motif)\n",
    "            \n",
    "            if patern  == \"A\": #そのままコピー\n",
    "                pass\n",
    "\n",
    "            elif patern == \"B\": #リズムをキープしてピッチをふりなおす\n",
    "                for note in motif_cp.notes:\n",
    "                    note.change_pitch(pentas_choice=pentas_choice)\n",
    "\n",
    "            elif patern == \"C\":  #完全新規\n",
    "                motif_cp = Motif(beat=motif_cp.beat,bar_num=motif_cp.bar_num)\n",
    "                \n",
    "            motif_dict[patern] = motif_cp\n",
    "\n",
    "        return motif_dict\n",
    "    \n",
    "    def print_phrase(self):\n",
    "        for motief in self.motifs:\n",
    "            print(\"---\")\n",
    "            motief.print_motif()"
   ]
  },
  {
   "cell_type": "code",
   "execution_count": 10,
   "id": "cb1eeb13",
   "metadata": {},
   "outputs": [
    {
     "name": "stderr",
     "output_type": "stream",
     "text": [
      "C:\\Users\\ryo\\Anaconda3\\envs\\py37\\lib\\site-packages\\ipykernel_launcher.py:47: VisibleDeprecationWarning: Creating an ndarray from ragged nested sequences (which is a list-or-tuple of lists-or-tuples-or ndarrays with different lengths or shapes) is deprecated. If you meant to do this, you must specify 'dtype=object' when creating the ndarray.\n"
     ]
    }
   ],
   "source": [
    "base_motif  = Motif(beat=4,bar_num=1)\n",
    "base_phrase = Phrase(base_motif=base_motif,part_name=\"Amelo\",motif_patern=\"AABCAABC\")\n",
    "lyric       = [i for i in \"それってあなたのかんそうですよね\"]\n",
    "len_lyric   = len(lyric)"
   ]
  },
  {
   "cell_type": "markdown",
   "id": "d32fae4f",
   "metadata": {},
   "source": [
    "notes2musicxml"
   ]
  },
  {
   "cell_type": "code",
   "execution_count": 11,
   "id": "45dd0201",
   "metadata": {},
   "outputs": [],
   "source": [
    "import music21 as m2\n",
    "import pickle as pkl\n",
    "from config import *"
   ]
  },
  {
   "cell_type": "code",
   "execution_count": 12,
   "id": "77b2f233",
   "metadata": {},
   "outputs": [],
   "source": [
    "# ストリーム全体に関わる設定：楽器名とか調とか\n",
    "mystrm = m2.stream.Part()\n",
    "# 楽器\n",
    "myinst = m2.instrument.Instrument()\n",
    "myinst.partName = \"Kiritan\"\n",
    "mystrm.append(myinst)\n",
    "# 調号\n",
    "mystrm.append(m2.key.Key('c', 'major'))\n",
    "# 音部記号\n",
    "mystrm.append(m2.clef.TrebleClef())\n",
    "# mystrm.append(m2.clef.BassClef()) へ音記号"
   ]
  },
  {
   "cell_type": "code",
   "execution_count": 13,
   "id": "f5e7688c",
   "metadata": {},
   "outputs": [
    {
     "name": "stdout",
     "output_type": "stream",
     "text": [
      "quarter A4 on\n",
      "24 81 1\n",
      "quarter E4 on\n",
      "24 76 1\n",
      "dotted_quarter C4 on\n",
      "36 72 1\n",
      "quaver D5 on\n",
      "12 86 1\n",
      "quarter A4 on\n",
      "24 81 1\n",
      "quarter E4 on\n",
      "24 76 1\n",
      "dotted_quarter C4 on\n",
      "36 72 1\n",
      "quaver D5 on\n",
      "12 86 1\n",
      "quarter E4 on\n",
      "24 76 1\n",
      "quarter A4 on\n",
      "24 81 1\n",
      "dotted_quarter C5 on\n",
      "36 84 1\n",
      "quaver C5 on\n",
      "12 84 1\n",
      "quaver C5 on\n",
      "12 84 1\n",
      "quaver D4 on\n",
      "12 74 1\n",
      "dotted_quarter C4 on\n",
      "36 72 1\n",
      "dotted_quarter G4 on\n",
      "36 79 1\n",
      "quarter A4 on\n",
      "24 81 1\n",
      "quarter E4 on\n",
      "24 76 1\n",
      "dotted_quarter C4 on\n",
      "36 72 1\n",
      "quaver D5 on\n",
      "12 86 1\n",
      "quarter A4 on\n",
      "24 81 1\n",
      "quarter E4 on\n",
      "24 76 1\n",
      "dotted_quarter C4 on\n",
      "36 72 1\n",
      "quaver D5 on\n",
      "12 86 1\n",
      "quarter E4 on\n",
      "24 76 1\n",
      "quarter A4 on\n",
      "24 81 1\n",
      "dotted_quarter C5 on\n",
      "36 84 1\n",
      "quaver C5 on\n",
      "12 84 1\n",
      "quaver C5 on\n",
      "12 84 1\n",
      "quaver D4 on\n",
      "12 74 1\n",
      "dotted_quarter C4 on\n",
      "36 72 1\n",
      "dotted_quarter G4 on\n",
      "36 79 1\n"
     ]
    }
   ],
   "source": [
    "ind_lyric  = 0\n",
    "pitch_bias = -12\n",
    "for motif in base_phrase.motifs: # 8小節\n",
    "    cur_measure = m2.stream.Measure() \n",
    "    cur_measure.append( m2.tempo.MetronomeMark(number=motif.notes[0].bpm) ) \n",
    "    for note in motif.notes:\n",
    "        quater_length = note.dulation_num/24\n",
    "        print(note.dulation_char,note.pitch_char,note.onoff_char)\n",
    "        print(note.dulation_num,note.pitch_num,note.onoff_num)\n",
    "\n",
    "        if note.onoff_char == \"on\":\n",
    "            note_number = note.pitch_num + pitch_bias\n",
    "            char = lyric[ind_lyric%len_lyric]\n",
    "            ind_lyric += 1\n",
    "            n = m2.note.Note(note_number, quarterLength=quater_length, lyric=char)\n",
    "\n",
    "        else:# 休符\n",
    "            n = m2.note.Rest(quarterLength=quater_length)\n",
    "            # 音符を放り込んだ小節をストリームに放り込む\n",
    "        cur_measure.append(n)\n",
    "    mystrm.append(cur_measure)"
   ]
  },
  {
   "cell_type": "code",
   "execution_count": 14,
   "id": "4f86cae2",
   "metadata": {},
   "outputs": [
    {
     "data": {
      "text/plain": [
       "WindowsPath('C:/Users/ryo/Documents/AI/NEUTRINO-Windows_v0.510/NEUTRINO/score/musicxml/test.musicxml')"
      ]
     },
     "execution_count": 14,
     "metadata": {},
     "output_type": "execute_result"
    }
   ],
   "source": [
    "neutrino_file_store = \"C:/Users/ryo/Documents/Git/ai-music/neutrino_file_store\"\n",
    "neutrino_input_musicxml = \"C:/Users/ryo/Documents/AI/NEUTRINO-Windows_v0.510/NEUTRINO/score/musicxml/test.musicxml\"\n",
    "neutrino_output_wav = \"C:/Users/ryo/Documents/AI/NEUTRINO-Windows_v0.510/NEUTRINO/output/test_syn.wav\"\n",
    "\n",
    "mystrm.write(fp=neutrino_input_musicxml)"
   ]
  },
  {
   "cell_type": "code",
   "execution_count": 15,
   "id": "3cf56ab1",
   "metadata": {},
   "outputs": [],
   "source": [
    "import subprocess\n",
    "\n",
    "cmd = \"C:/Users/ryo/Documents/AI/NEUTRINO-Windows_v0.510/NEUTRINO/Run.bat\"\n",
    "returncode = subprocess.call(cmd, shell=True)"
   ]
  },
  {
   "cell_type": "code",
   "execution_count": 16,
   "id": "b94af3a4",
   "metadata": {},
   "outputs": [],
   "source": [
    "dt_now = datetime.datetime.now()\n",
    "\n",
    "if os.path.exists(neutrino_input_musicxml):\n",
    "    copy_musicxml = neutrino_file_store + f'/{version_num}_{dt_now.year:04d}{dt_now.month:02d}{dt_now.day:02d}_{dt_now.hour:02d}{dt_now.minute:02d}{dt_now.second:02d}.musicxml'\n",
    "    shutil.copyfile(neutrino_input_musicxml, copy_musicxml)\n",
    "else:\n",
    "    print(\"musicxmlファイルのコピーに失敗しました\")\n",
    "\n",
    "if os.path.exists(neutrino_output_wav):\n",
    "    copy_wav = neutrino_file_store + f'/{version_num}_{dt_now.year:04d}{dt_now.month:02d}{dt_now.day:02d}_{dt_now.hour:02d}{dt_now.minute:02d}{dt_now.second:02d}.wav'\n",
    "    shutil.copyfile(neutrino_output_wav, copy_wav)\n",
    "else:\n",
    "    print(\"wavファイルのコピーに失敗しました\")\n"
   ]
  },
  {
   "cell_type": "code",
   "execution_count": null,
   "id": "c194fc76",
   "metadata": {},
   "outputs": [],
   "source": []
  },
  {
   "cell_type": "code",
   "execution_count": 35,
   "id": "5e38de0b",
   "metadata": {},
   "outputs": [
    {
     "ename": "SyntaxError",
     "evalue": "invalid syntax (Temp/ipykernel_11476/85250177.py, line 7)",
     "output_type": "error",
     "traceback": [
      "\u001b[1;36m  File \u001b[1;32m\"C:\\Users\\ryo\\AppData\\Local\\Temp/ipykernel_11476/85250177.py\"\u001b[1;36m, line \u001b[1;32m7\u001b[0m\n\u001b[1;33m    make_motief_rhythm():\u001b[0m\n\u001b[1;37m                         ^\u001b[0m\n\u001b[1;31mSyntaxError\u001b[0m\u001b[1;31m:\u001b[0m invalid syntax\n"
     ]
    }
   ],
   "source": [
    "class ItsuUta():\n",
    "    def __init__(self):\n",
    "        self.parts = []\n",
    "        \n",
    "    def make_song():\n",
    "        \n",
    "        make_motief_rhythm():\n",
    "            \n",
    "    #motiefをbarに移し替えたい。歌詞入れたり、\n",
    "    def motief2bar():\n",
    "    \n",
    "    \n",
    "    def export_musicxml():\n",
    "    #歌詞と音符からmusicxmlに吐き出す。"
   ]
  },
  {
   "cell_type": "code",
   "execution_count": 34,
   "id": "6f641ee4",
   "metadata": {},
   "outputs": [],
   "source": [
    "test = ItsuUta()"
   ]
  },
  {
   "cell_type": "code",
   "execution_count": 36,
   "id": "06d3d18c",
   "metadata": {},
   "outputs": [
    {
     "name": "stdout",
     "output_type": "stream",
     "text": [
      "<class 'int'>\n"
     ]
    }
   ],
   "source": [
    "bar = test.make_motief_rhythm(beat=4)"
   ]
  },
  {
   "cell_type": "code",
   "execution_count": 43,
   "id": "007a11cc",
   "metadata": {},
   "outputs": [
    {
     "data": {
      "text/plain": [
       "'quaver'"
      ]
     },
     "execution_count": 43,
     "metadata": {},
     "output_type": "execute_result"
    }
   ],
   "source": [
    "bar.notes[0].dulation_char"
   ]
  },
  {
   "cell_type": "code",
   "execution_count": null,
   "id": "f37bf710",
   "metadata": {},
   "outputs": [],
   "source": [
    "    \n",
    "class Motif: \n",
    "    def __init__(self,beat,bar_num):\n",
    "        self.notes   = []\n",
    "        self.beat     = beat\n",
    "        self.bar_num  = bar_num #モチーフの小節数。\n",
    "        \n",
    "        self.bar_reso    = int( config.bar_reso * (self.beat/4) )\n",
    "        self.motif_reso  = self.bar_reso * self.bar_num\n",
    "        \n",
    "        self.make_motif()\n",
    "        \n",
    "    def note_dulation_gen(self): #音符一個適当に返す。\n",
    "        note_choice = [Note(\"quarter\",\"on\",\"C-2\"),Note(\"quaver\",\"on\",\"C-2\"),Note(\"quarter\",\"off\",\"C-2\"),Note(\"quaver\",\"off\",\"C-2\")]\n",
    "        note_prob   = [0.6,0.3,0.05,0.05]\n",
    "        note = np.random.choice(note_choice ,p=note_prob,replace=True)\n",
    "        return note\n",
    "    \n",
    "    def make_motif(self):#1小節リズム生成 \n",
    "        #bar_num : 0.5,1, 2, 4, 8   \n",
    "        # 0.5 => 1/2小節\n",
    "        note_dulation_sum= 0\n",
    "        \n",
    "        while (self.motif_reso) > note_dulation_sum:\n",
    "            \n",
    "            note = self.note_dulation_gen()\n",
    "            self.notes.append(note)\n",
    "            note_dulation_sum += note.dulation_num\n",
    "            ## quater,quater,quater,quaver,quater \n",
    "            if note_dulation_sum > self.motif_reso: #1小節を超えたら\n",
    "                diff_dulation     = note_dulation_sum - self.motif_reso #quaver\n",
    "                note.dulation_num = diff_dulation\n",
    "                note.num2char()\n",
    "                \n",
    "            note.change_pitch(pentas_choice = pentas_choice)\n",
    "            \n",
    "        return self.notes\n",
    "    \n",
    "    def print_motif(self):\n",
    "        for note in self.notes:\n",
    "            print(note.dulation_char,note.pitch_char,note.onoff_char)"
   ]
  },
  {
   "cell_type": "code",
   "execution_count": 11,
   "id": "90a599fe",
   "metadata": {},
   "outputs": [
    {
     "data": {
      "text/plain": [
       "[['quaver_note',\n",
       "  'quarter_note',\n",
       "  'quarter_note',\n",
       "  'quarter_note',\n",
       "  'quaver_note'],\n",
       " ['quaver_note',\n",
       "  'quarter_note',\n",
       "  'quarter_note',\n",
       "  'quarter_note',\n",
       "  'quaver_note'],\n",
       " ['quaver_note',\n",
       "  'quarter_note',\n",
       "  'quarter_note',\n",
       "  'quarter_note',\n",
       "  'quaver_note']]"
      ]
     },
     "execution_count": 11,
     "metadata": {},
     "output_type": "execute_result"
    }
   ],
   "source": [
    "bar_rhythm_list"
   ]
  },
  {
   "cell_type": "code",
   "execution_count": 12,
   "id": "55e532df",
   "metadata": {},
   "outputs": [
    {
     "data": {
      "text/plain": [
       "[['C5', 'G5', 'C4', 'A5', 'C4'],\n",
       " ['D4', 'A5', 'D5', 'A4', 'E4'],\n",
       " ['E5', 'A5', 'A5', 'A5', 'A4']]"
      ]
     },
     "execution_count": 12,
     "metadata": {},
     "output_type": "execute_result"
    }
   ],
   "source": [
    "bar_pitch_list"
   ]
  },
  {
   "cell_type": "code",
   "execution_count": 4,
   "id": "06e8a902",
   "metadata": {
    "id": "d0de5960"
   },
   "outputs": [],
   "source": [
    "multitrack   = pypianoroll.Multitrack(resolution=quarter_reso,tempo=tempos)"
   ]
  },
  {
   "cell_type": "markdown",
   "id": "c3914ead",
   "metadata": {
    "id": "0714a221"
   },
   "source": [
    "### make chord track"
   ]
  },
  {
   "cell_type": "code",
   "execution_count": 5,
   "id": "6aed6168",
   "metadata": {
    "id": "d5690038"
   },
   "outputs": [],
   "source": [
    "track1 = pypianoroll.StandardTrack(name=\"piano\",program=0,is_drum=False)\n",
    "multitrack.tracks.append(track1)"
   ]
  },
  {
   "cell_type": "code",
   "execution_count": 6,
   "id": "ddccf64c",
   "metadata": {
    "scrolled": true
   },
   "outputs": [],
   "source": [
    "bar_backing_rhythm_list = []\n",
    "bar_backing_chord_list = []\n",
    "bar_backing_pianoroll_list = []\n",
    "\n",
    "bar_backing_rhythm_list.append( make_backing_rhythm() )\n",
    "bar_backing_chord_list.append( make_backing_chord() )\n",
    "\n",
    "pianoroll = chord2pianorll(bar_backing_rhythm_list[0],bar_backing_chord_list[0])\n",
    "bar_backing_pianoroll_list.append( pianoroll )"
   ]
  },
  {
   "cell_type": "code",
   "execution_count": 7,
   "id": "d044a43d",
   "metadata": {},
   "outputs": [],
   "source": [
    "backing_pianorll = np.array(bar_backing_pianoroll_list)\n",
    "backing_pianorll = backing_pianorll.reshape(-1,pitch_reso)"
   ]
  },
  {
   "cell_type": "code",
   "execution_count": 8,
   "id": "807aa783",
   "metadata": {},
   "outputs": [],
   "source": [
    "track1.pianoroll = backing_pianorll"
   ]
  },
  {
   "cell_type": "code",
   "execution_count": 9,
   "id": "0a4e6d18",
   "metadata": {
    "colab": {
     "base_uri": "https://localhost:8080/",
     "height": 295
    },
    "executionInfo": {
     "elapsed": 632,
     "status": "ok",
     "timestamp": 1634818956163,
     "user": {
      "displayName": "浜野遼佑",
      "photoUrl": "https://lh3.googleusercontent.com/a/default-user=s64",
      "userId": "16664192285264168407"
     },
     "user_tz": -540
    },
    "id": "3f086483",
    "outputId": "74e51cbe-d124-4a55-94ba-00546f94cbd1"
   },
   "outputs": [
    {
     "data": {
      "text/plain": [
       "[<AxesSubplot:xlabel='time (beat)', ylabel='piano\\n\\npitch'>]"
      ]
     },
     "execution_count": 9,
     "metadata": {},
     "output_type": "execute_result"
    },
    {
     "data": {
      "image/png": "[encoded data removed]",
      "text/plain": [
       "<Figure size 432x288 with 1 Axes>"
      ]
     },
     "metadata": {
      "needs_background": "light"
     },
     "output_type": "display_data"
    }
   ],
   "source": [
    "#plt.figure()\n",
    "multitrack.plot()"
   ]
  },
  {
   "cell_type": "markdown",
   "id": "7df05aaa",
   "metadata": {},
   "source": [
    "### モチーフ反復"
   ]
  },
  {
   "cell_type": "code",
   "execution_count": 10,
   "id": "06b5fa64",
   "metadata": {
    "scrolled": true
   },
   "outputs": [
    {
     "name": "stdout",
     "output_type": "stream",
     "text": [
      "振りなおし\n",
      "振りなおし\n"
     ]
    }
   ],
   "source": [
    "bar_rhythm_list = []\n",
    "bar_pitch_list = []\n",
    "bar_pianoroll_list = []\n",
    "bar_rhythm_list.append(make_motief_rhythm())\n",
    "bar_pitch_list.append(make_motief_pitch(bar_rhythm_list[0]))\n",
    "bar_pianoroll_list.append(events2pianoroll(bar_rhythm_list[0], bar_pitch_list[0]))\n",
    "\n",
    "for i in [1, 2]:\n",
    "    if np.random.choice([0, 1], p=[0.5, 0.5]):\n",
    "        print(\"コピー\")\n",
    "        # モチーフ反復\n",
    "        bar_rhythm_list.append(bar_rhythm_list[0])\n",
    "        bar_pitch_list.append(bar_pitch_list[0])\n",
    "        bar_pianoroll_list.append(bar_pianoroll_list[0])\n",
    "    else:\n",
    "        print(\"振りなおし\")\n",
    "        # ピッチを振りなおす\n",
    "        bar_rhythm_list.append(bar_rhythm_list[0])\n",
    "        bar_pitch_list.append(make_motief_pitch(bar_rhythm_list[0]))\n",
    "        bar_pianoroll_list.append(events2pianoroll(bar_rhythm_list[i], bar_pitch_list[i]))\n"
   ]
  },
  {
   "cell_type": "code",
   "execution_count": 10,
   "id": "ad6d94e3",
   "metadata": {},
   "outputs": [],
   "source": [
    "verse_pre = np.array(bar_pianoroll_list)"
   ]
  },
  {
   "cell_type": "code",
   "execution_count": 11,
   "id": "dae4ff18",
   "metadata": {},
   "outputs": [],
   "source": [
    "verse_break_rhythm, verse_break_pitch, verse_break = make_motief()\n",
    "bar_pitch_list.append(verse_break_pitch)\n",
    "bar_rhythm_list.append(verse_break_rhythm)\n",
    "verse = np.concatenate([verse_pre, verse_break.reshape(1, bar_reso, pitch_reso)], axis = 0).reshape(4*bar_reso, pitch_reso)"
   ]
  },
  {
   "cell_type": "code",
   "execution_count": 12,
   "id": "fa7d3d66",
   "metadata": {
    "id": "3db8b79d"
   },
   "outputs": [],
   "source": [
    "pianoroll = np.tile(verse,(2,1))\n",
    "track2 = pypianoroll.StandardTrack(name=\"piano\",program=12,is_drum=False)"
   ]
  },
  {
   "cell_type": "code",
   "execution_count": 13,
   "id": "c13219f2",
   "metadata": {
    "id": "476eafc6"
   },
   "outputs": [],
   "source": [
    "multitrack.tracks.append(track2)\n",
    "track2.pianoroll = pianoroll"
   ]
  },
  {
   "cell_type": "code",
   "execution_count": 14,
   "id": "534d7499",
   "metadata": {
    "colab": {
     "base_uri": "https://localhost:8080/",
     "height": 312
    },
    "executionInfo": {
     "elapsed": 1308,
     "status": "ok",
     "timestamp": 1634818969494,
     "user": {
      "displayName": "浜野遼佑",
      "photoUrl": "https://lh3.googleusercontent.com/a/default-user=s64",
      "userId": "16664192285264168407"
     },
     "user_tz": -540
    },
    "id": "06aac134",
    "outputId": "9ed8f76b-0044-4741-e47a-4b195f654d72"
   },
   "outputs": [
    {
     "data": {
      "text/plain": [
       "[<AxesSubplot:xlabel='time (beat)', ylabel='piano\\n\\npitch'>,\n",
       " <AxesSubplot:xlabel='time (beat)', ylabel='piano\\n\\npitch'>]"
      ]
     },
     "execution_count": 14,
     "metadata": {},
     "output_type": "execute_result"
    },
    {
     "data": {
      "image/png": "[encoded data removed]",
      "text/plain": [
       "<Figure size 432x288 with 2 Axes>"
      ]
     },
     "metadata": {
      "needs_background": "light"
     },
     "output_type": "display_data"
    }
   ],
   "source": [
    "multitrack.plot()"
   ]
  },
  {
   "cell_type": "code",
   "execution_count": 15,
   "id": "855e3400",
   "metadata": {
    "id": "99a042c3"
   },
   "outputs": [],
   "source": [
    "pm = multitrack.to_pretty_midi()"
   ]
  },
  {
   "cell_type": "code",
   "execution_count": 16,
   "id": "74bb7152",
   "metadata": {},
   "outputs": [],
   "source": [
    "dt_now = datetime.datetime.now()\n",
    "pm.write(f'midi/{version_num}_{dt_now.year:04d}{dt_now.month:02d}{dt_now.day:02d}_{dt_now.hour:02d}{dt_now.minute:02d}{dt_now.second:02d}.midi')"
   ]
  },
  {
   "cell_type": "markdown",
   "id": "d831e916",
   "metadata": {},
   "source": [
    "### 隔離"
   ]
  },
  {
   "cell_type": "code",
   "execution_count": 17,
   "id": "c8952027",
   "metadata": {},
   "outputs": [],
   "source": [
    "import pickle as pkl\n",
    "with open(\"save/part2_for_musixxml.pkl\",\"wb\") as f:\n",
    "    pkl.dump([bar_rhythm_list,bar_pitch_list],f)"
   ]
  },
  {
   "cell_type": "code",
   "execution_count": 18,
   "id": "03958b4e",
   "metadata": {},
   "outputs": [
    {
     "data": {
      "text/plain": [
       "[['quarter_note',\n",
       "  'quarter_note',\n",
       "  'quaver_note',\n",
       "  'quarter_note',\n",
       "  'quaver_note'],\n",
       " ['quarter_note',\n",
       "  'quarter_note',\n",
       "  'quaver_note',\n",
       "  'quarter_note',\n",
       "  'quaver_note'],\n",
       " ['quarter_note',\n",
       "  'quarter_note',\n",
       "  'quaver_note',\n",
       "  'quarter_note',\n",
       "  'quaver_note'],\n",
       " ['quarter_note', 'quarter_note', 'quarter_note', 'quarter_note']]"
      ]
     },
     "execution_count": 18,
     "metadata": {},
     "output_type": "execute_result"
    }
   ],
   "source": [
    "bar_rhythm_list"
   ]
  },
  {
   "cell_type": "code",
   "execution_count": 19,
   "id": "649beaae",
   "metadata": {},
   "outputs": [
    {
     "data": {
      "text/plain": [
       "[['C4', 'D4', 'D4', 'C4', 'E5'],\n",
       " ['E5', 'D5', 'D5', 'D5', 'C4'],\n",
       " ['C4', 'G4', 'E5', 'C4', 'E5'],\n",
       " ['E5', 'C4', 'D5', 'C4']]"
      ]
     },
     "execution_count": 19,
     "metadata": {},
     "output_type": "execute_result"
    }
   ],
   "source": [
    "bar_pitch_list"
   ]
  },
  {
   "cell_type": "code",
   "execution_count": null,
   "id": "a51f4c22",
   "metadata": {},
   "outputs": [],
   "source": [
    "#IPython.display.Audio(pm.fluidsynth(fs=16000), rate=16000)"
   ]
  }
 ],
 "metadata": {
  "colab": {
   "collapsed_sections": [],
   "name": "ai-music-ver0.1.ipynb",
   "provenance": []
  },
  "interpreter": {
   "hash": "8103e5b9e6402227b06626f8e57cd160e1790c47031707a915f584572b47ab1d"
  },
  "kernelspec": {
   "display_name": "Python 3 (ipykernel)",
   "language": "python",
   "name": "python3"
  },
  "language_info": {
   "codemirror_mode": {
    "name": "ipython",
    "version": 3
   },
   "file_extension": ".py",
   "mimetype": "text/x-python",
   "name": "python",
   "nbconvert_exporter": "python",
   "pygments_lexer": "ipython3",
   "version": "3.7.11"
  }
 },
 "nbformat": 4,
 "nbformat_minor": 5
}
