{
 "cells": [
  {
   "cell_type": "code",
   "execution_count": 1,
   "metadata": {},
   "outputs": [],
   "source": [
    "from music_theory_utils import ItsuUta\n",
    "import pickle as pkl"
   ]
  },
  {
   "cell_type": "code",
   "execution_count": null,
   "metadata": {},
   "outputs": [],
   "source": []
  },
  {
   "cell_type": "code",
   "execution_count": 2,
   "metadata": {},
   "outputs": [],
   "source": [
    "self.NEUTRINO    = \"C:\\Users\\yusuke\\Desktop\\Music\\NEUTRINO-Windows_v0.500\\Run_arg.bat\"\n",
    "lyric = \"あいうえおかきくけこさしすせそなにぬねのはひふへほまみむめもやゆよらりるれろわをん\""
   ]
  },
  {
   "cell_type": "code",
   "execution_count": 3,
   "metadata": {},
   "outputs": [
    {
     "name": "stdout",
     "output_type": "stream",
     "text": [
      "162 D\n",
      "PIT ['B+3' 'D+4' 'E+4' 'F#+4' 'A+4' 'B+4' 'D+5']\n",
      "B+3 [0.26666667 0.21666667 0.18333333 0.15       0.1        0.06666667\n",
      " 0.01666667]\n",
      "A+4 [0.26666667 0.21666667 0.18333333 0.15       0.1        0.06666667\n",
      " 0.01666667]\n",
      "PIT ['B+3' 'D+4' 'E+4' 'F#+4' 'A+4' 'B+4' 'D+5']\n",
      "D+4 [0.05882353 0.14705882 0.20588235 0.26470588 0.17647059 0.11764706\n",
      " 0.02941176]\n",
      "D+4 [0.18518519 0.24074074 0.2037037  0.16666667 0.11111111 0.07407407\n",
      " 0.01851852]\n",
      "F#+4 [0.18518519 0.24074074 0.2037037  0.16666667 0.11111111 0.07407407\n",
      " 0.01851852]\n",
      "PIT ['B+3' 'D+4' 'E+4' 'F#+4' 'A+4' 'B+4' 'D+5']\n",
      "B+3 [0.26666667 0.21666667 0.18333333 0.15       0.1        0.06666667\n",
      " 0.01666667]\n",
      "B+3 [0.26666667 0.21666667 0.18333333 0.15       0.1        0.06666667\n",
      " 0.01666667]\n",
      "PIT ['B+3' 'D+4' 'E+4' 'F#+4' 'A+4' 'B+4' 'D+5']\n",
      "B+3 [0.13043478 0.19565217 0.23913043 0.19565217 0.13043478 0.08695652\n",
      " 0.02173913]\n",
      "B+3 [0.26666667 0.21666667 0.18333333 0.15       0.1        0.06666667\n",
      " 0.01666667]\n",
      "PIT ['B+3' 'D+4' 'E+4' 'F#+4' 'A+4' 'B+4' 'D+5']\n",
      "F#+4 [0.05882353 0.14705882 0.20588235 0.26470588 0.17647059 0.11764706\n",
      " 0.02941176]\n",
      "B+4 [0.05882353 0.14705882 0.20588235 0.26470588 0.17647059 0.11764706\n",
      " 0.02941176]\n",
      "D+5 [0.01886792 0.0754717  0.11320755 0.1509434  0.20754717 0.24528302\n",
      " 0.18867925]\n",
      "D+4 [0.01694915 0.06779661 0.10169492 0.13559322 0.18644068 0.22033898\n",
      " 0.27118644]\n",
      "PIT ['B+3' 'D+4' 'E+4' 'F#+4' 'A+4' 'B+4' 'D+5']\n",
      "A+4 [0.05882353 0.14705882 0.20588235 0.26470588 0.17647059 0.11764706\n",
      " 0.02941176]\n",
      "E+4 [0.02222222 0.08888889 0.13333333 0.17777778 0.24444444 0.2\n",
      " 0.13333333]\n",
      "PIT ['B+3' 'D+4' 'E+4' 'F#+4' 'A+4' 'B+4' 'D+5']\n",
      "A+4 [0.05882353 0.14705882 0.20588235 0.26470588 0.17647059 0.11764706\n",
      " 0.02941176]\n",
      "D+4 [0.02222222 0.08888889 0.13333333 0.17777778 0.24444444 0.2\n",
      " 0.13333333]\n",
      "E+4 [0.18518519 0.24074074 0.2037037  0.16666667 0.11111111 0.07407407\n",
      " 0.01851852]\n",
      "E+4 [0.13043478 0.19565217 0.23913043 0.19565217 0.13043478 0.08695652\n",
      " 0.02173913]\n",
      "E+4 [0.13043478 0.19565217 0.23913043 0.19565217 0.13043478 0.08695652\n",
      " 0.02173913]\n",
      "PIT ['B+3' 'D+4' 'E+4' 'F#+4' 'A+4' 'B+4' 'D+5']\n",
      "E+4 [0.05882353 0.14705882 0.20588235 0.26470588 0.17647059 0.11764706\n",
      " 0.02941176]\n",
      "D+4 [0.13043478 0.19565217 0.23913043 0.19565217 0.13043478 0.08695652\n",
      " 0.02173913]\n",
      "PIT ['B+3' 'D+4' 'E+4' 'F#+4' 'A+4' 'B+4' 'D+5']\n",
      "A+4 [0.04477612 0.08955224 0.11940299 0.14925373 0.19402985 0.2238806\n",
      " 0.17910448]\n",
      "E+4 [0.05084746 0.10169492 0.13559322 0.16949153 0.22033898 0.18644068\n",
      " 0.13559322]\n",
      "PIT ['B+3' 'D+4' 'E+4' 'F#+4' 'A+4' 'B+4' 'D+5']\n",
      "D+4 [0.24324324 0.2027027  0.17567568 0.14864865 0.10810811 0.08108108\n",
      " 0.04054054]\n",
      "F#+4 [0.17647059 0.22058824 0.19117647 0.16176471 0.11764706 0.08823529\n",
      " 0.04411765]\n",
      "PIT ['B+3' 'D+4' 'E+4' 'F#+4' 'A+4' 'B+4' 'D+5']\n",
      "F#+4 [0.04109589 0.08219178 0.10958904 0.1369863  0.17808219 0.20547945\n",
      " 0.24657534]\n",
      "A+4 [0.08333333 0.14583333 0.1875     0.22916667 0.16666667 0.125\n",
      " 0.0625    ]\n"
     ]
    },
    {
     "name": "stderr",
     "output_type": "stream",
     "text": [
      "c:\\Users\\yusuke\\Desktop\\Projects\\ai-music\\music_theory_utils.py:435: VisibleDeprecationWarning: Creating an ndarray from ragged nested sequences (which is a list-or-tuple of lists-or-tuples-or ndarrays with different lengths or shapes) is deprecated. If you meant to do this, you must specify 'dtype=object' when creating the ndarray.\n",
      "  motif_combination = np.random.choice(motif_pattern_list,p=motif_pattern_prob_list )\n"
     ]
    },
    {
     "name": "stdout",
     "output_type": "stream",
     "text": [
      "['C:\\\\Users\\\\ryo\\\\Documents\\\\AI\\\\NEUTRINO-Windows_v0.500\\\\NEUTRINO\\\\Run_arg.bat', 'c:\\\\Users\\\\yusuke\\\\Desktop\\\\Projects\\\\ai-music\\\\save\\\\test22\\\\musicxml\\\\Amelo.musicxml', 'Amelo', 'c:\\\\Users\\\\yusuke\\\\Desktop\\\\Projects\\\\ai-music\\\\save\\\\test22\\\\vocal\\\\Amelo.wav']\n"
     ]
    },
    {
     "ename": "FileNotFoundError",
     "evalue": "[WinError 2] 指定されたファイルが見つかりません。",
     "output_type": "error",
     "traceback": [
      "\u001b[1;31m---------------------------------------------------------------------------\u001b[0m",
      "\u001b[1;31mFileNotFoundError\u001b[0m                         Traceback (most recent call last)",
      "\u001b[1;32m~\\AppData\\Local\\Temp/ipykernel_15744/2158092643.py\u001b[0m in \u001b[0;36m<module>\u001b[1;34m\u001b[0m\n\u001b[0;32m      4\u001b[0m \u001b[1;31m#a.print_part()\u001b[0m\u001b[1;33m\u001b[0m\u001b[1;33m\u001b[0m\u001b[1;33m\u001b[0m\u001b[0m\n\u001b[0;32m      5\u001b[0m \u001b[0muta\u001b[0m\u001b[1;33m.\u001b[0m\u001b[0mmake_musicxml\u001b[0m\u001b[1;33m(\u001b[0m\u001b[1;33m)\u001b[0m\u001b[1;33m\u001b[0m\u001b[1;33m\u001b[0m\u001b[0m\n\u001b[1;32m----> 6\u001b[1;33m \u001b[0muta\u001b[0m\u001b[1;33m.\u001b[0m\u001b[0msynth_vocal\u001b[0m\u001b[1;33m(\u001b[0m\u001b[1;33m)\u001b[0m\u001b[1;33m\u001b[0m\u001b[1;33m\u001b[0m\u001b[0m\n\u001b[0m\u001b[0;32m      7\u001b[0m \u001b[0muta\u001b[0m\u001b[1;33m.\u001b[0m\u001b[0mpreprocess_vocal\u001b[0m\u001b[1;33m(\u001b[0m\u001b[1;33m)\u001b[0m\u001b[1;33m\u001b[0m\u001b[1;33m\u001b[0m\u001b[0m\n\u001b[0;32m      8\u001b[0m \u001b[0muta\u001b[0m\u001b[1;33m.\u001b[0m\u001b[0mcompose\u001b[0m\u001b[1;33m(\u001b[0m\u001b[0minst_gain\u001b[0m\u001b[1;33m=\u001b[0m\u001b[1;33m-\u001b[0m\u001b[1;36m8\u001b[0m\u001b[1;33m)\u001b[0m\u001b[1;33m\u001b[0m\u001b[1;33m\u001b[0m\u001b[0m\n",
      "\u001b[1;32mc:\\Users\\yusuke\\Desktop\\Projects\\ai-music\\music_theory_utils.py\u001b[0m in \u001b[0;36msynth_vocal\u001b[1;34m(self)\u001b[0m\n\u001b[0;32m    203\u001b[0m             \u001b[1;32mif\u001b[0m \u001b[0mpart_item\u001b[0m\u001b[1;33m[\u001b[0m\u001b[1;34m\"vocal_flg\"\u001b[0m\u001b[1;33m]\u001b[0m\u001b[1;33m:\u001b[0m\u001b[1;33m\u001b[0m\u001b[1;33m\u001b[0m\u001b[0m\n\u001b[0;32m    204\u001b[0m                 \u001b[0mprint\u001b[0m\u001b[1;33m(\u001b[0m\u001b[1;33m[\u001b[0m\u001b[0mself\u001b[0m\u001b[1;33m.\u001b[0m\u001b[0mNEUTRINO\u001b[0m\u001b[1;33m,\u001b[0m\u001b[0mmusicxmlpath\u001b[0m\u001b[1;33m,\u001b[0m\u001b[0mpart_name\u001b[0m\u001b[1;33m,\u001b[0m\u001b[0moutputpath\u001b[0m\u001b[1;33m]\u001b[0m\u001b[1;33m)\u001b[0m\u001b[1;33m\u001b[0m\u001b[1;33m\u001b[0m\u001b[0m\n\u001b[1;32m--> 205\u001b[1;33m                 \u001b[0mproc\u001b[0m \u001b[1;33m=\u001b[0m \u001b[0msubprocess\u001b[0m\u001b[1;33m.\u001b[0m\u001b[0mPopen\u001b[0m\u001b[1;33m(\u001b[0m\u001b[1;33m[\u001b[0m\u001b[0mself\u001b[0m\u001b[1;33m.\u001b[0m\u001b[0mNEUTRINO\u001b[0m\u001b[1;33m,\u001b[0m\u001b[0mmusicxmlpath\u001b[0m\u001b[1;33m,\u001b[0m\u001b[0mpart_name\u001b[0m\u001b[1;33m,\u001b[0m\u001b[0moutputpath\u001b[0m\u001b[1;33m]\u001b[0m\u001b[1;33m)\u001b[0m\u001b[1;33m\u001b[0m\u001b[1;33m\u001b[0m\u001b[0m\n\u001b[0m\u001b[0;32m    206\u001b[0m                 \u001b[0mproc_list\u001b[0m\u001b[1;33m.\u001b[0m\u001b[0mappend\u001b[0m\u001b[1;33m(\u001b[0m\u001b[0mproc\u001b[0m\u001b[1;33m)\u001b[0m\u001b[1;33m\u001b[0m\u001b[1;33m\u001b[0m\u001b[0m\n\u001b[0;32m    207\u001b[0m             \u001b[1;32melse\u001b[0m\u001b[1;33m:\u001b[0m\u001b[1;31m#便宜上空のwavファイルを作成する。\u001b[0m\u001b[1;33m\u001b[0m\u001b[1;33m\u001b[0m\u001b[0m\n",
      "\u001b[1;32m~\\anaconda3\\envs\\ai-music\\lib\\subprocess.py\u001b[0m in \u001b[0;36m__init__\u001b[1;34m(self, args, bufsize, executable, stdin, stdout, stderr, preexec_fn, close_fds, shell, cwd, env, universal_newlines, startupinfo, creationflags, restore_signals, start_new_session, pass_fds, encoding, errors, text)\u001b[0m\n\u001b[0;32m    798\u001b[0m                                 \u001b[0mc2pread\u001b[0m\u001b[1;33m,\u001b[0m \u001b[0mc2pwrite\u001b[0m\u001b[1;33m,\u001b[0m\u001b[1;33m\u001b[0m\u001b[1;33m\u001b[0m\u001b[0m\n\u001b[0;32m    799\u001b[0m                                 \u001b[0merrread\u001b[0m\u001b[1;33m,\u001b[0m \u001b[0merrwrite\u001b[0m\u001b[1;33m,\u001b[0m\u001b[1;33m\u001b[0m\u001b[1;33m\u001b[0m\u001b[0m\n\u001b[1;32m--> 800\u001b[1;33m                                 restore_signals, start_new_session)\n\u001b[0m\u001b[0;32m    801\u001b[0m         \u001b[1;32mexcept\u001b[0m\u001b[1;33m:\u001b[0m\u001b[1;33m\u001b[0m\u001b[1;33m\u001b[0m\u001b[0m\n\u001b[0;32m    802\u001b[0m             \u001b[1;31m# Cleanup if the child failed starting.\u001b[0m\u001b[1;33m\u001b[0m\u001b[1;33m\u001b[0m\u001b[1;33m\u001b[0m\u001b[0m\n",
      "\u001b[1;32m~\\anaconda3\\envs\\ai-music\\lib\\subprocess.py\u001b[0m in \u001b[0;36m_execute_child\u001b[1;34m(self, args, executable, preexec_fn, close_fds, pass_fds, cwd, env, startupinfo, creationflags, shell, p2cread, p2cwrite, c2pread, c2pwrite, errread, errwrite, unused_restore_signals, unused_start_new_session)\u001b[0m\n\u001b[0;32m   1205\u001b[0m                                          \u001b[0menv\u001b[0m\u001b[1;33m,\u001b[0m\u001b[1;33m\u001b[0m\u001b[1;33m\u001b[0m\u001b[0m\n\u001b[0;32m   1206\u001b[0m                                          \u001b[0mos\u001b[0m\u001b[1;33m.\u001b[0m\u001b[0mfspath\u001b[0m\u001b[1;33m(\u001b[0m\u001b[0mcwd\u001b[0m\u001b[1;33m)\u001b[0m \u001b[1;32mif\u001b[0m \u001b[0mcwd\u001b[0m \u001b[1;32mis\u001b[0m \u001b[1;32mnot\u001b[0m \u001b[1;32mNone\u001b[0m \u001b[1;32melse\u001b[0m \u001b[1;32mNone\u001b[0m\u001b[1;33m,\u001b[0m\u001b[1;33m\u001b[0m\u001b[1;33m\u001b[0m\u001b[0m\n\u001b[1;32m-> 1207\u001b[1;33m                                          startupinfo)\n\u001b[0m\u001b[0;32m   1208\u001b[0m             \u001b[1;32mfinally\u001b[0m\u001b[1;33m:\u001b[0m\u001b[1;33m\u001b[0m\u001b[1;33m\u001b[0m\u001b[0m\n\u001b[0;32m   1209\u001b[0m                 \u001b[1;31m# Child is launched. Close the parent's copy of those pipe\u001b[0m\u001b[1;33m\u001b[0m\u001b[1;33m\u001b[0m\u001b[1;33m\u001b[0m\u001b[0m\n",
      "\u001b[1;31mFileNotFoundError\u001b[0m: [WinError 2] 指定されたファイルが見つかりません。"
     ]
    }
   ],
   "source": [
    "uta = ItsuUta(name=\"test22\",genra=\"Vocalo\")\n",
    "uta.gen_music()\n",
    "uta.set_lyric(lyric,setmode=\"all\")\n",
    "#a.print_part()\n",
    "uta.make_musicxml()\n",
    "uta.synth_vocal()\n",
    "uta.preprocess_vocal()\n",
    "uta.compose(inst_gain=-8)\n",
    "uta.save_instance()      #自身のインスタンスの保存"
   ]
  },
  {
   "cell_type": "code",
   "execution_count": null,
   "metadata": {},
   "outputs": [],
   "source": []
  }
 ],
 "metadata": {
  "interpreter": {
   "hash": "30e8700369f484e645c6fc7933936dddf61ed9f2e0bf910d6eafb6dc280bb601"
  },
  "kernelspec": {
   "display_name": "Python 3.7.11 64-bit ('ai-music': conda)",
   "language": "python",
   "name": "python3"
  },
  "language_info": {
   "codemirror_mode": {
    "name": "ipython",
    "version": 3
   },
   "file_extension": ".py",
   "mimetype": "text/x-python",
   "name": "python",
   "nbconvert_exporter": "python",
   "pygments_lexer": "ipython3",
   "version": "3.7.11"
  },
  "orig_nbformat": 4
 },
 "nbformat": 4,
 "nbformat_minor": 2
}
