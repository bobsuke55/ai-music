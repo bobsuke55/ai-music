{
 "cells": [
  {
   "cell_type": "markdown",
   "id": "5ae492b7",
   "metadata": {},
   "source": [
    "参考ページ \n",
    "https://qiita.com/mrpepper/items/f0199b28f967912bec21\n",
    "https://web.mit.edu/music21/\n",
    "\n",
    "musescoreのインストール ubuntu版   \n",
    "\n",
    "1. appimageをダウンロード  \n",
    "https://musescore.org/ja/download\n",
    " \n",
    "\n",
    "2. 実行権限を与える．これだけでも，appimageをダブルクリックすれば動くようになる．  \n",
    "chmod u+x MuseScore*.AppImage\n",
    "\n",
    "3. インストール   \n",
    "./MuseScore*.AppImage install  \n",
    "\n",
    "4. music21のusersettingsのパスにmusescoreのインストール先を指定する．music21インストール後一回すればよい．\n",
    "import music21 as m2\n",
    "usersettings = m2.environment.UserSettings()\n",
    "usersettings.create()\n",
    "usersettings['musescoreDirectPNGPath'] = '/hoge/.local/bin/MuseScore-3.6.2.548021370-x86_64.AppImage'  \n",
    "usersettings['musicxmlPath'] = '/hoge/.local/bin/MuseScore-3.6.2.548021370-x86_64.AppImage'"
   ]
  },
  {
   "cell_type": "code",
   "execution_count": 1,
   "id": "b47197cc",
   "metadata": {},
   "outputs": [],
   "source": [
    "import music21 as m2\n",
    "import pickle as pkl\n",
    "from config import *"
   ]
  },
  {
   "cell_type": "code",
   "execution_count": 10,
   "id": "9cbce04a",
   "metadata": {},
   "outputs": [],
   "source": [
    "with open(\"save/part2_for_musixxml.pkl\",\"rb\") as f:\n",
    "    [bar_rhythm_list,bar_pitch_list] = pkl.load(f)\n",
    "    \n",
    "#with open(\"save/part2_for_musixxml.pkl\",\"rb\") as f:\n",
    "#    [bar_rhythm_list1,bar_pitch_list1] = pkl.load(f)"
   ]
  },
  {
   "cell_type": "code",
   "execution_count": 11,
   "id": "65ce6873",
   "metadata": {
    "scrolled": true
   },
   "outputs": [],
   "source": [
    "bar_rhythm_list =  bar_rhythm_list * 2\n",
    "bar_pitch_list =  bar_pitch_list * 2"
   ]
  },
  {
   "cell_type": "code",
   "execution_count": 12,
   "id": "487f0145",
   "metadata": {},
   "outputs": [],
   "source": [
    "ind = 0"
   ]
  },
  {
   "cell_type": "code",
   "execution_count": 13,
   "id": "064e0d5e",
   "metadata": {},
   "outputs": [],
   "source": [
    "# ストリーム全体に関わる設定：楽器名とか調とか\n",
    "mystrm = m2.stream.Part()\n",
    "# 楽器\n",
    "myinst = m2.instrument.Instrument()\n",
    "myinst.partName = \"Kiritan\"\n",
    "mystrm.append(myinst)\n",
    "# 調号\n",
    "mystrm.append(m2.key.Key('c', 'major'))\n",
    "# 音部記号\n",
    "mystrm.append(m2.clef.TrebleClef())\n",
    "# mystrm.append(m2.clef.BassClef()) へ音記号"
   ]
  },
  {
   "cell_type": "code",
   "execution_count": 14,
   "id": "1069838d",
   "metadata": {},
   "outputs": [],
   "source": [
    "lyric = [i for i in \"それってあなたのかんそうですよね\"]\n",
    "len_lyric = len(lyric)"
   ]
  },
  {
   "cell_type": "code",
   "execution_count": 15,
   "id": "45d318de",
   "metadata": {
    "scrolled": true
   },
   "outputs": [
    {
     "name": "stdout",
     "output_type": "stream",
     "text": [
      "---\n",
      "quarter_note C4\n",
      "60\n",
      "quarter_note D4\n",
      "62\n",
      "quaver_note D4\n",
      "62\n",
      "quarter_note C4\n",
      "60\n",
      "quaver_note E5\n",
      "76\n",
      "---\n",
      "quarter_note E5\n",
      "76\n",
      "quarter_note D5\n",
      "74\n",
      "quaver_note D5\n",
      "74\n",
      "quarter_note D5\n",
      "74\n",
      "quaver_note C4\n",
      "60\n",
      "---\n",
      "quarter_note C4\n",
      "60\n",
      "quarter_note G4\n",
      "67\n",
      "quaver_note E5\n",
      "76\n",
      "quarter_note C4\n",
      "60\n",
      "quaver_note E5\n",
      "76\n",
      "---\n",
      "quarter_note E5\n",
      "76\n",
      "quarter_note C4\n",
      "60\n",
      "quarter_note D5\n",
      "74\n",
      "quarter_note C4\n",
      "60\n",
      "---\n",
      "quarter_note C4\n",
      "60\n",
      "quarter_note D4\n",
      "62\n",
      "quaver_note D4\n",
      "62\n",
      "quarter_note C4\n",
      "60\n",
      "quaver_note E5\n",
      "76\n",
      "---\n",
      "quarter_note E5\n",
      "76\n",
      "quarter_note D5\n",
      "74\n",
      "quaver_note D5\n",
      "74\n",
      "quarter_note D5\n",
      "74\n",
      "quaver_note C4\n",
      "60\n",
      "---\n",
      "quarter_note C4\n",
      "60\n",
      "quarter_note G4\n",
      "67\n",
      "quaver_note E5\n",
      "76\n",
      "quarter_note C4\n",
      "60\n",
      "quaver_note E5\n",
      "76\n",
      "---\n",
      "quarter_note E5\n",
      "76\n",
      "quarter_note C4\n",
      "60\n",
      "quarter_note D5\n",
      "74\n",
      "quarter_note C4\n",
      "60\n"
     ]
    }
   ],
   "source": [
    "ind_lyric = 0\n",
    "for lengths,pitches in zip(bar_rhythm_list,bar_pitch_list): # 8小節\n",
    "    print(\"---\")\n",
    "    cur_measure = m2.stream.Measure() \n",
    "    cur_measure.append( m2.tempo.MetronomeMark(number=120) )\n",
    "    for length,pitch in zip(lengths,pitches): #1小節\n",
    "        print(length,pitch)\n",
    "        note,note_rest = length.split(\"_\")\n",
    "        quater_length = note2long_dicts[note]/24\n",
    "        \n",
    "        if note_rest == \"note\":\n",
    "            #note2long_dicts\n",
    "            note_number = key2array_dicts[pitch] - 12\n",
    "            print(note_number)\n",
    "            #if note_number >= 74:\n",
    "#                note_number -= 12\n",
    "\n",
    "            if note_number <= 71:\n",
    "                note_number += 12\n",
    "    \n",
    "            char = lyric[ind_lyric%len_lyric]\n",
    "            ind_lyric += 1\n",
    "            n = m2.note.Note(note_number, quarterLength=quater_length, lyric=char)\n",
    "\n",
    "        else:# 休符\n",
    "            n = m2.note.Rest(quarterLength=quater_length)\n",
    "            # 音符を放り込んだ小節をストリームに放り込む\n",
    "        cur_measure.append(n)        \n",
    "    mystrm.append(cur_measure)"
   ]
  },
  {
   "cell_type": "code",
   "execution_count": 16,
   "id": "ec66e3e8",
   "metadata": {},
   "outputs": [
    {
     "data": {
      "text/plain": [
       "'C:\\\\Users\\\\yusuke\\\\Desktop\\\\Projects\\\\ai-music\\\\part2.xml'"
      ]
     },
     "execution_count": 16,
     "metadata": {},
     "output_type": "execute_result"
    }
   ],
   "source": [
    "mystrm.write(fp=\"part2.musicxml\")"
   ]
  },
  {
   "cell_type": "code",
   "execution_count": 23,
   "id": "35e804a0",
   "metadata": {},
   "outputs": [],
   "source": [
    "for x in range(8):\n",
    "    # 小節を作って、そこに音符を放り込んでゆく\n",
    "    cur_measure = m2.stream.Measure()\n",
    "    #\n",
    "    n = m2.note.Note(x + 64, quarterLength=0.5, lyric='よ')\n",
    "    # コンマ型ブレスは、直前の音符に属している\n",
    "    b = m2.articulations.BreathMark()\n",
    "    b.symbol = 'comma'\n",
    "    n.articulations.append(b)\n",
    "    cur_measure.append(n)\n",
    "    # 休符\n",
    "    cur_measure.append(m2.note.Rest(quarterLength=2))\n",
    "    # 音符を放り込んだ小節をストリームに放り込む\n",
    "    mystrm.append(cur_measure)\n",
    "\n",
    "# タイでつなぐ（始点ならstart）\n",
    "cur_measure = m2.stream.Measure()\n",
    "cur_measure.append(m2.note.Rest(quarterLength=2))\n",
    "n = m2.note.Note(60, quarterLength=2, lyric='う')\n",
    "n.tie = m2.tie.Tie('start')\n",
    "cur_measure.append(n)\n",
    "mystrm.append(cur_measure)\n",
    "\n",
    "# タイでつなぐ（3つつなぎなら真ん中はcontinue）\n",
    "cur_measure = m2.stream.Measure()\n",
    "n = m2.note.Note(60, quarterLength=4, lyric='ー')\n",
    "n.tie = m2.tie.Tie('continue')\n",
    "cur_measure.append(n)\n",
    "mystrm.append(cur_measure)\n",
    "\n",
    "# タイでつなぐ（終点ならstop）\n",
    "cur_measure = m2.stream.Measure()\n",
    "n = m2.note.Note(60, quarterLength=2, lyric='ー')\n",
    "n.tie = m2.tie.Tie('stop')\n",
    "cur_measure.append(n)\n",
    "cur_measure.append(m2.note.Rest(quarterLength=2))\n",
    "mystrm.append(cur_measure)\n"
   ]
  },
  {
   "cell_type": "code",
   "execution_count": null,
   "id": "4c075649",
   "metadata": {},
   "outputs": [],
   "source": [
    "mystrm.write()"
   ]
  },
  {
   "cell_type": "code",
   "execution_count": 30,
   "id": "1fc8af52",
   "metadata": {},
   "outputs": [
    {
     "data": {
      "text/plain": [
       "PosixPath('/home/hyusuke/Desktop/Projects/ai_music/ai-music/test.musicxml')"
      ]
     },
     "execution_count": 30,
     "metadata": {},
     "output_type": "execute_result"
    }
   ],
   "source": []
  },
  {
   "cell_type": "code",
   "execution_count": null,
   "id": "c0feeb4c",
   "metadata": {},
   "outputs": [],
   "source": []
  }
 ],
 "metadata": {
  "kernelspec": {
   "display_name": "Python 3",
   "language": "python",
   "name": "python3"
  },
  "language_info": {
   "codemirror_mode": {
    "name": "ipython",
    "version": 3
   },
   "file_extension": ".py",
   "mimetype": "text/x-python",
   "name": "python",
   "nbconvert_exporter": "python",
   "pygments_lexer": "ipython3",
   "version": "3.6.13"
  }
 },
 "nbformat": 4,
 "nbformat_minor": 5
}
