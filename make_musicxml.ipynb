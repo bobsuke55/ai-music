{
 "cells": [
  {
   "cell_type": "markdown",
   "id": "5ae492b7",
   "metadata": {},
   "source": [
    "参考ページ \n",
    "https://qiita.com/mrpepper/items/f0199b28f967912bec21\n",
    "https://web.mit.edu/music21/\n",
    "\n",
    "musescoreのインストール ubuntu版   \n",
    "\n",
    "1. appimageをダウンロード  \n",
    "https://musescore.org/ja/download\n",
    " \n",
    "\n",
    "2. 実行権限を与える．これだけでも，appimageをダブルクリックすれば動くようになる．  \n",
    "chmod u+x MuseScore*.AppImage\n",
    "\n",
    "3. インストール   \n",
    "./MuseScore*.AppImage install  \n",
    "\n",
    "4. music21のusersettingsのパスにmusescoreのインストール先を指定する．music21インストール後一回すればよい．\n",
    "import music21 as m2\n",
    "usersettings = m2.environment.UserSettings()\n",
    "usersettings.create()\n",
    "usersettings['musescoreDirectPNGPath'] = '/hoge/.local/bin/MuseScore-3.6.2.548021370-x86_64.AppImage'  \n",
    "usersettings['musicxmlPath'] = '/hoge/.local/bin/MuseScore-3.6.2.548021370-x86_64.AppImage'"
   ]
  },
  {
   "cell_type": "code",
   "execution_count": 11,
   "id": "b47197cc",
   "metadata": {},
   "outputs": [],
   "source": [
    "import music21 as m2"
   ]
  },
  {
   "cell_type": "code",
   "execution_count": 21,
   "id": "05c77a54",
   "metadata": {},
   "outputs": [],
   "source": [
    "# ストリーム全体に関わる設定：楽器名とか調とか\n",
    "mystrm = m2.stream.Part()\n",
    "# 楽器\n",
    "myinst = m2.instrument.Instrument()\n",
    "myinst.partName = \"Kiritan\"\n",
    "mystrm.append(myinst)\n",
    "# 調号\n",
    "mystrm.append(m2.key.Key('c', 'major'))\n",
    "# 音部記号\n",
    "mystrm.append(m2.clef.TrebleClef())\n",
    "# mystrm.append(m2.clef.BassClef()) へ音記号"
   ]
  },
  {
   "cell_type": "code",
   "execution_count": null,
   "id": "32e88596",
   "metadata": {},
   "outputs": [],
   "source": [
    "eventslist "
   ]
  },
  {
   "cell_type": "code",
   "execution_count": 23,
   "id": "35e804a0",
   "metadata": {},
   "outputs": [],
   "source": [
    "for x in range(8):\n",
    "    # 小節を作って、そこに音符を放り込んでゆく\n",
    "    cur_measure = m2.stream.Measure()\n",
    "    #\n",
    "    n = m2.note.Note(x + 64, quarterLength=0.5, lyric='よ')\n",
    "    # コンマ型ブレスは、直前の音符に属している\n",
    "    b = m2.articulations.BreathMark()\n",
    "    b.symbol = 'comma'\n",
    "    n.articulations.append(b)\n",
    "    cur_measure.append(n)\n",
    "    # 休符\n",
    "    cur_measure.append(m2.note.Rest(quarterLength=2))\n",
    "    # 音符を放り込んだ小節をストリームに放り込む\n",
    "    mystrm.append(cur_measure)\n",
    "\n",
    "# タイでつなぐ（始点ならstart）\n",
    "cur_measure = m2.stream.Measure()\n",
    "cur_measure.append(m2.note.Rest(quarterLength=2))\n",
    "n = m2.note.Note(60, quarterLength=2, lyric='う')\n",
    "n.tie = m2.tie.Tie('start')\n",
    "cur_measure.append(n)\n",
    "mystrm.append(cur_measure)\n",
    "\n",
    "# タイでつなぐ（3つつなぎなら真ん中はcontinue）\n",
    "cur_measure = m2.stream.Measure()\n",
    "n = m2.note.Note(60, quarterLength=4, lyric='ー')\n",
    "n.tie = m2.tie.Tie('continue')\n",
    "cur_measure.append(n)\n",
    "mystrm.append(cur_measure)\n",
    "\n",
    "# タイでつなぐ（終点ならstop）\n",
    "cur_measure = m2.stream.Measure()\n",
    "n = m2.note.Note(60, quarterLength=2, lyric='ー')\n",
    "n.tie = m2.tie.Tie('stop')\n",
    "cur_measure.append(n)\n",
    "cur_measure.append(m2.note.Rest(quarterLength=2))\n",
    "mystrm.append(cur_measure)\n"
   ]
  },
  {
   "cell_type": "code",
   "execution_count": null,
   "id": "4c075649",
   "metadata": {},
   "outputs": [],
   "source": [
    "mystrm.write()"
   ]
  },
  {
   "cell_type": "code",
   "execution_count": 30,
   "id": "1fc8af52",
   "metadata": {},
   "outputs": [
    {
     "data": {
      "text/plain": [
       "PosixPath('/home/hyusuke/Desktop/Projects/ai_music/ai-music/test.musicxml')"
      ]
     },
     "execution_count": 30,
     "metadata": {},
     "output_type": "execute_result"
    }
   ],
   "source": [
    "mystrm.write(fp=\"test.musicxml\")"
   ]
  },
  {
   "cell_type": "code",
   "execution_count": null,
   "id": "c0feeb4c",
   "metadata": {},
   "outputs": [],
   "source": []
  }
 ],
 "metadata": {
  "kernelspec": {
   "display_name": "Python 3 (ipykernel)",
   "language": "python",
   "name": "python3"
  },
  "language_info": {
   "codemirror_mode": {
    "name": "ipython",
    "version": 3
   },
   "file_extension": ".py",
   "mimetype": "text/x-python",
   "name": "python",
   "nbconvert_exporter": "python",
   "pygments_lexer": "ipython3",
   "version": "3.8.9"
  }
 },
 "nbformat": 4,
 "nbformat_minor": 5
}
